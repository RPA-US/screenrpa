{
 "cells": [
  {
   "cell_type": "code",
   "execution_count": 2,
   "metadata": {},
   "outputs": [],
   "source": [
    "import pandas as pd\n",
    "import json"
   ]
  },
  {
   "cell_type": "code",
   "execution_count": 3,
   "metadata": {},
   "outputs": [],
   "source": [
    "def get_intersection(list1, list2):\n",
    "    intersection = list(set(list1).intersection(list2))\n",
    "    return intersection\n",
    "\n",
    "def check_comparing_with_oracle(json_data: dict):\n",
    "    res = 0\n",
    "    for class_id in json_data:\n",
    "        json_data_copy = json_data[class_id].copy()\n",
    "        json_data_copy.pop(\"feature_values\")\n",
    "        json_data_copy.pop(\"cumple_condicion\")\n",
    "        if len(json_data_copy) > 0:\n",
    "            discovered_features = json_data_copy\n",
    "            feature_values = json_data[class_id][\"feature_values\"]\n",
    "            relevant_features = 0\n",
    "            for k, v in feature_values.items():\n",
    "                if k[:7] == \"or_cond\":\n",
    "                    aux = get_intersection(discovered_features, v)\n",
    "                    relevant_features = relevant_features + 1 if len(aux) >= 1 else relevant_features\n",
    "                else:\n",
    "                    relevant_features = relevant_features + 1 if k in discovered_features else relevant_features\n",
    "            rel_fe_in_tree = relevant_features / len(json_data_copy)\n",
    "            if (res < rel_fe_in_tree):\n",
    "                res = rel_fe_in_tree\n",
    "    return res"
   ]
  },
  {
   "cell_type": "code",
   "execution_count": 9,
   "metadata": {},
   "outputs": [
    {
     "name": "stdout",
     "output_type": "stream",
     "text": [
      "Se ha creado el archivo CSV: ../../../resources/resultados_experimentos_Real.csv\n"
     ]
    }
   ],
   "source": [
    "real_or_mockups = \"Real\"\n",
    "keys = {\n",
    "    98: \"IS_Rev1_\" + real_or_mockups + \"_FE1\",\n",
    "    99: \"IS_Rev1_\" + real_or_mockups + \"_FE2\",\n",
    "    100: \"IS_Rev1_\" + real_or_mockups + \"_FE3\",\n",
    "    101: \"IS_Rev1_\" + real_or_mockups + \"_FE2+3\",\n",
    "    102: \"IS_Rev1_\" + real_or_mockups + \"_FE1+2+3\"\n",
    "    # 76: \"IS_Rev1_Real_FE1\",\n",
    "    # 77: \"IS_Rev1_Real_FE2\",\n",
    "    # 78: \"IS_Rev1_Real_FE3\",\n",
    "    # 79: \"IS_Rev1_Real_FE2+3\",\n",
    "    # 80: \"IS_Rev1_Real_FE1+2+3\"\n",
    "}\n",
    "\n",
    "total_number_of_branches_in_dp = 4\n",
    "# Crear una lista para almacenar los datos de cada experimento\n",
    "experiment_data = []\n",
    "\n",
    "for i in keys.keys():\n",
    "    # Tu archivo JSON (reemplaza 'ruta_al_archivo.json' con la ruta real del archivo)\n",
    "    id = str(i)\n",
    "    json_file = \"../../../resources/metadata/\" + id + '-metainfo.json'\n",
    "\n",
    "    # Leer el archivo JSON\n",
    "    with open(json_file, 'r') as file:\n",
    "        data = json.load(file)\n",
    "\n",
    "    aux = str(keys[i]).split(\"_\")\n",
    "    # Procesar cada clave del JSON y extraer la información necesaria\n",
    "    for experiment, info in data.items():\n",
    "        feature_values = info['decision_tree_training']['feature_checker'][\"1\"][\"feature_values\"]\n",
    "            \n",
    "        branch_correctly_classified = 0\n",
    "        for class_id in info['decision_tree_training']['feature_checker']:\n",
    "            fes = info['decision_tree_training']['feature_checker'][class_id]\n",
    "            if fes[\"cumple_condicion\"]:\n",
    "                branch_correctly_classified += 1\n",
    "        #     if len(fes) - 1 > relevant_fe:\n",
    "        #         relevant_fe = len(fes)-1\n",
    "        # features_discovered_in_tree = relevant_fe / len(feature_values)\n",
    "        size = experiment.split(\"_\")[2][4:]\n",
    "        fes = aux[3].replace(\"FE\", \"\")\n",
    "        experiment_data.append([\n",
    "            id,\n",
    "            keys[i],\n",
    "            aux[2][0]+\"_\"+size+\"_\"+fes,\n",
    "            size,\n",
    "            \"_IMB\" if \"Imbalanced\" in experiment else \"_BAL\",\n",
    "            size+\"_IMB\" if \"Imbalanced\" in experiment else size+\"_BAL\",\n",
    "            aux[2],\n",
    "            \"X\" if \"1\" in str(aux[3]) else \"\",\n",
    "            \"X\" if \"2\" in str(aux[3]) else \"\",\n",
    "            \"X\" if \"3\" in str(aux[3]) else \"\",\n",
    "            experiment,\n",
    "            info['decision_tree_training']['sklearn']['duration'],\n",
    "            info['decision_tree_training']['columns_len'],\n",
    "            info['decision_tree_training']['accuracy']['accuracy'],\n",
    "            info['decision_tree_training']['accuracy']['precision'],\n",
    "            info['decision_tree_training']['accuracy']['recall'],\n",
    "            info['decision_tree_training']['accuracy']['f1_score'],\n",
    "            check_comparing_with_oracle(info['decision_tree_training']['feature_checker']),\n",
    "            branch_correctly_classified / total_number_of_branches_in_dp\n",
    "        ])\n",
    "\n",
    "# Crear un DataFrame de pandas con los datos\n",
    "columns = ['id', 'name', 'compact_name', 'logEvents', 'compact_balanced', 'logEvents_balanced','type', 'FE1', 'FE2', 'FE3', 'experiment', 'tree training duration', 'columns_len', 'accuracy', 'precision', 'recall', 'f1_score', 'features_discovered_in_tree', 'branch_correctly_classified']\n",
    "df = pd.DataFrame(experiment_data, columns=columns)\n",
    "\n",
    "# Guardar el DataFrame en un archivo CSV\n",
    "output_csv = '../../../resources/resultados_experimentos_' + real_or_mockups + '.csv'\n",
    "df.to_csv(output_csv, index=False)\n",
    "\n",
    "print(f'Se ha creado el archivo CSV: {output_csv}')\n"
   ]
  }
 ],
 "metadata": {
  "kernelspec": {
   "display_name": "env",
   "language": "python",
   "name": "python3"
  },
  "language_info": {
   "codemirror_mode": {
    "name": "ipython",
    "version": 3
   },
   "file_extension": ".py",
   "mimetype": "text/x-python",
   "name": "python",
   "nbconvert_exporter": "python",
   "pygments_lexer": "ipython3",
   "version": "3.10.9"
  },
  "orig_nbformat": 4
 },
 "nbformat": 4,
 "nbformat_minor": 2
}

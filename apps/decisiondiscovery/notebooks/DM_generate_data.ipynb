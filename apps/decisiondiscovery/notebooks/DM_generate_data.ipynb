{
 "cells": [
  {
   "cell_type": "code",
   "execution_count": 13,
   "metadata": {},
   "outputs": [
    {
     "name": "stdout",
     "output_type": "stream",
     "text": [
      "Archivo CSV generado exitosamente.\n"
     ]
    }
   ],
   "source": [
    "import csv\n",
    "import random\n",
    "    \n",
    "# Lista de trazas de actividades\n",
    "traces = [\n",
    "    ['A', 'B', 'C', 'D', 'b1'],\n",
    "    ['A', 'C', 'B', 'D', 'b1'],\n",
    "    ['A', 'B', 'C', 'E', 'F', 'b2'],\n",
    "    ['A', 'C', 'B', 'E', 'F', 'b2'],\n",
    "    ['A', 'B', 'C', 'E', 'G', 'b3'],\n",
    "    ['A', 'C', 'B', 'E', 'G', 'b3']\n",
    "]\n",
    "\n",
    "# Lista para almacenar las filas del CSV\n",
    "csv_rows = []\n",
    "row = [None]\n",
    "case_id = 1\n",
    "\n",
    "# Generar 250 filas para el CSV\n",
    "for _ in range(500):\n",
    "    # Reordenar las trazas aleatoriamente\n",
    "    random.shuffle(traces)\n",
    "    for trace in traces:\n",
    "        variant = trace[-1]\n",
    "        for index, activity in enumerate(trace):\n",
    "            row = row.copy()\n",
    "            row[0] = case_id  # Asignar el número de trace\n",
    "            if activity == 'A':\n",
    "                case_id += 1  # Incrementar el número de case\n",
    "                row = [case_id, activity, variant, None, None, None, None, None]\n",
    "            elif activity == 'B' or activity == 'C':\n",
    "                row[1] = activity\n",
    "                if row[3] is None:  # Si amount está vacío, asignar un valor aleatorio\n",
    "                    row[3] = random.randint(1, 100)\n",
    "                if row[5] is None:  # Si length está vacío, asignar un valor aleatorio\n",
    "                    row[5] = random.randint(1, 100)\n",
    "            elif trace[index-1] == 'B':\n",
    "                row[1] = activity\n",
    "                if row[2] is None:  # Si age está vacío, asignar un valor aleatorio\n",
    "                    row[2] = random.randint(18, 80)\n",
    "                if row[4] is None:  # Si salary está vacío, asignar un valor aleatorio\n",
    "                    row[4] = random.randint(1000, 5000)\n",
    "            elif trace[index-1] == 'C':\n",
    "                row[1] = activity\n",
    "                if row[6] is None:  # Si installement está vacío, asignar un valor aleatorio\n",
    "                    row[6] = random.randint(1, 10)\n",
    "            elif activity == 'D' or activity == 'E':\n",
    "                row[1] = activity\n",
    "                if row[2] is None:  # Si age está vacío, asignar un valor aleatorio\n",
    "                    row[2] = random.randint(18, 80)\n",
    "                if row[4] is None:  # Si salary está vacío, asignar un valor aleatorio\n",
    "                    row[4] = random.randint(1000, 5000)\n",
    "                if row[6] is None:  # Si installement está vacío, asignar un valor aleatorio\n",
    "                    row[6] = random.randint(1, 10)\n",
    "            csv_rows.append(row)\n",
    "            if activity == 'D' or activity == 'F' or activity == 'G':\n",
    "                row[1] = activity\n",
    "                break  # Terminar la traza después de D, F o G\n",
    "            \n",
    "# Escribir los datos en un archivo CSV\n",
    "with open('log_events.csv', 'w', newline='') as csvfile:\n",
    "    writer = csv.writer(csvfile)\n",
    "    writer.writerow(['trace', 'activity', 'variant', 'age', 'amount', 'salary', 'length', 'installement'])\n",
    "    writer.writerows(csv_rows)\n",
    "\n",
    "print(\"Archivo CSV generado exitosamente.\")"
   ]
  }
 ],
 "metadata": {
  "kernelspec": {
   "display_name": "venv",
   "language": "python",
   "name": "python3"
  },
  "language_info": {
   "codemirror_mode": {
    "name": "ipython",
    "version": 3
   },
   "file_extension": ".py",
   "mimetype": "text/x-python",
   "name": "python",
   "nbconvert_exporter": "python",
   "pygments_lexer": "ipython3",
   "version": "3.10.9"
  }
 },
 "nbformat": 4,
 "nbformat_minor": 2
}

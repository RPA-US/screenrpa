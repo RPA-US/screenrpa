{
 "cells": [
  {
   "cell_type": "code",
   "execution_count": 1,
   "metadata": {},
   "outputs": [],
   "source": [
    "from django.test import TestCase\n",
    "import json\n",
    "import cv2\n",
    "import numpy as np\n",
    "import time\n",
    "import os \n",
    "import torch\n",
    "from SOM.UiComponent import UiComponent\n",
    "from SOM import utils\n",
    "from SOM import ip_draw \n",
    "import random\n",
    "from SOM.sam import get_sam_gui_components_crops"
   ]
  },
  {
   "cell_type": "code",
   "execution_count": 15,
   "metadata": {},
   "outputs": [],
   "source": [
    "def obtain_som(root_path, screenshots_names, image_folder_path, TIME_JSON_PATH, sam_checkpoint):\n",
    "    COMPOS_JSON_PATH = 'compos_json/'\n",
    "    MASK_JSON_PATH = 'mask_json/'\n",
    "\n",
    "    for i,name in enumerate(screenshots_names):\n",
    "        name = name.split('.')[0]\n",
    "        recortes_path=root_path+'compos_npy/'+name+'.npy'\n",
    "        path_to_save_mask_npy=root_path+'mask_elements_npy/'+name\n",
    "        checkpoint_path=\"../../checkpoints/\"\n",
    "        clips, uicompos, mask_json, compos_json, arrays_dict,dict_times = get_sam_gui_components_crops(param_img_root=image_folder_path, path_to_save_bordered_images=root_path, image_names=screenshots_names, img_index=i, checkpoint_path=checkpoint_path, checkpoint=sam_checkpoint)\n",
    "\n",
    "        time0 = time.time()\n",
    "        with open(COMPOS_JSON_PATH+name+'_'+sam_checkpoint+'.json','w') as f:\n",
    "            f.write(compos_json)\n",
    "\n",
    "        with open(MASK_JSON_PATH+name+'_'+sam_checkpoint+'.json','w') as f:\n",
    "            f.write(mask_json)\n",
    "\n",
    "        compos_aux = np.array(clips)\n",
    "        np.save(recortes_path,compos_aux)\n",
    "\n",
    "        # npy for each segmentation of SAM\n",
    "        path=path_to_save_mask_npy\n",
    "        for n in ['segmentation','crop_box']:\n",
    "            path_element = path+'_'+n+'_'+sam_checkpoint+'.npy'\n",
    "            aux = np.array(arrays_dict[n])\n",
    "            np.save(path_element,aux)\n",
    "        time1=time.time()\n",
    "        \n",
    "        dict_times['saving_results']=time1-time0\n",
    "\n",
    "        times_json = json.dumps(dict_times)\n",
    "        with open(TIME_JSON_PATH+name+'_'+sam_checkpoint+'.json','w') as f:\n",
    "            f.write(times_json)\n",
    "\n",
    "        print('There are {} components'.format(len(uicompos)))"
   ]
  },
  {
   "cell_type": "code",
   "execution_count": 16,
   "metadata": {},
   "outputs": [
    {
     "ename": "",
     "evalue": "",
     "output_type": "error",
     "traceback": [
      "\u001b[1;31mCanceled future for execute_request message before replies were done"
     ]
    },
    {
     "ename": "",
     "evalue": "",
     "output_type": "error",
     "traceback": [
      "\u001b[1;31mThe Kernel crashed while executing code in the the current cell or a previous cell. Please review the code in the cell(s) to identify a possible cause of the failure. Click <a href='https://aka.ms/vscodeJupyterKernelCrash'>here</a> for more info. View Jupyter <a href='command:jupyter.viewOutput'>log</a> for further details."
     ]
    }
   ],
   "source": [
    "screenshots_names = [\n",
    "    \"screenshot0012.JPEG\",\n",
    "    \"screenshot0014.JPEG\",\n",
    "    \"screenshot0015.JPEG\",\n",
    "    \"screenshot0016.JPEG\",\n",
    "    \"screenshot0017.JPEG\",\n",
    "    \"screenshot0018.JPEG\",\n",
    "    \"screenshot0019.JPEG\",\n",
    "    \"screenshot0020.JPEG\",\n",
    "    \"screenshot0022.JPEG\",\n",
    "    \"screenshot0023.JPEG\",\n",
    "    \"screenshot0024.JPEG\",\n",
    "    \"screenshot0025.JPEG\",\n",
    "    \"screenshot0026.JPEG\"\n",
    "]\n",
    "root = \"../../resources/gaze/gaze4/\"\n",
    "obtain_som(root, screenshots_names, root, root, \"l\")"
   ]
  }
 ],
 "metadata": {
  "kernelspec": {
   "display_name": "venv",
   "language": "python",
   "name": "python3"
  },
  "language_info": {
   "codemirror_mode": {
    "name": "ipython",
    "version": 3
   },
   "file_extension": ".py",
   "mimetype": "text/x-python",
   "name": "python",
   "nbconvert_exporter": "python",
   "pygments_lexer": "ipython3",
   "version": "3.10.7"
  },
  "orig_nbformat": 4
 },
 "nbformat": 4,
 "nbformat_minor": 2
}

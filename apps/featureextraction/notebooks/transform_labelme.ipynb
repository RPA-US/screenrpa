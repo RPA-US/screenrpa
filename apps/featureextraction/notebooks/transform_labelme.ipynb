{
 "cells": [
  {
   "cell_type": "code",
   "execution_count": 1,
   "metadata": {},
   "outputs": [],
   "source": [
    "import json\n",
    "import os"
   ]
  },
  {
   "cell_type": "code",
   "execution_count": 5,
   "metadata": {},
   "outputs": [],
   "source": [
    "RELATIVE_PATH = '../../../resources/data_v2/'"
   ]
  },
  {
   "cell_type": "code",
   "execution_count": 6,
   "metadata": {},
   "outputs": [],
   "source": [
    "images_rute = RELATIVE_PATH\n",
    "labelme_rute = RELATIVE_PATH+'labelme/'\n",
    "save_rute = RELATIVE_PATH+'annotated/'"
   ]
  },
  {
   "cell_type": "code",
   "execution_count": 7,
   "metadata": {},
   "outputs": [],
   "source": [
    "images_list = list(filter(lambda x:x.split('.')[-1]=='JPEG', os.listdir(images_rute)))"
   ]
  },
  {
   "cell_type": "markdown",
   "metadata": {},
   "source": [
    "Pasar de formato 'rectangle' a formato 'polygon' para aplicar labelme2coco."
   ]
  },
  {
   "cell_type": "code",
   "execution_count": 11,
   "metadata": {},
   "outputs": [],
   "source": [
    "import shutil\n",
    "\n",
    "for image_name in images_list:\n",
    "    json_name = image_name.split('.')[0]+'.json'\n",
    "    image_rute = labelme_rute+json_name\n",
    "    with open(image_rute, 'r') as file:\n",
    "        json_labelme = json.load(file)\n",
    "    for shape in json_labelme['shapes']:\n",
    "        points = shape['points']\n",
    "        x0,y0 = points[0]\n",
    "        x2,y2 = points[1]\n",
    "        x1,y1 = [x2,y0]\n",
    "        x3,y3 = [x0,y2]\n",
    "        points = [\n",
    "                    [x0,y0],\n",
    "                    [x1,y1],\n",
    "                    [x2,y2],\n",
    "                    [x3,y3]\n",
    "                ]\n",
    "        shape['points'] = points\n",
    "        shape['shape_type'] = 'polygon'\n",
    "    \n",
    "    file_path = save_rute+json_name\n",
    "    with open(file_path, 'w') as file:\n",
    "        json.dump(json_labelme, file, indent=2)\n",
    "    \n",
    "    original_image_path = f'{images_rute}{image_name}'\n",
    "    dest_image_path = f'{save_rute}{image_name}'\n",
    "    shutil.copyfile(original_image_path, dest_image_path)\n",
    "\n"
   ]
  },
  {
   "cell_type": "markdown",
   "metadata": {},
   "source": [
    "Aplicar Labelme2coco"
   ]
  },
  {
   "cell_type": "code",
   "execution_count": null,
   "metadata": {},
   "outputs": [],
   "source": [
    "!pip install -U labelme\n",
    "!pip install -U labelme2coco"
   ]
  },
  {
   "cell_type": "code",
   "execution_count": 14,
   "metadata": {},
   "outputs": [
    {
     "name": "stdout",
     "output_type": "stream",
     "text": [
      "There are 75 listed files in folder ../../../../resources/data_v2/annotated/.\n"
     ]
    },
    {
     "name": "stderr",
     "output_type": "stream",
     "text": [
      "Converting labelme annotations to COCO format: 100%|██████████| 75/75 [00:00<00:00, 127.14it/s]\n",
      "07/26/2023 11:12:40 - INFO - labelme2coco -   Training split in COCO format is exported to ..\\..\\..\\..\\resources\\coco_datasets\\data_v2\\train.json\n",
      "07/26/2023 11:12:40 - INFO - labelme2coco -   Validation split in COCO format is exported to ..\\..\\..\\..\\resources\\coco_datasets\\data_v2\\val.json\n"
     ]
    }
   ],
   "source": [
    "import labelme2coco\n",
    "\n",
    "labelme_folder = RELATIVE_PATH+'annotated/'\n",
    "\n",
    "export_dir = '../../../resources/coco_datasets/data_v2/'\n",
    "\n",
    "train_split_rate = 0.85\n",
    "\n",
    "labelme2coco.convert(labelme_folder, export_dir, train_split_rate)"
   ]
  }
 ],
 "metadata": {
  "kernelspec": {
   "display_name": "venv",
   "language": "python",
   "name": "python3"
  },
  "language_info": {
   "codemirror_mode": {
    "name": "ipython",
    "version": 3
   },
   "file_extension": ".py",
   "mimetype": "text/x-python",
   "name": "python",
   "nbconvert_exporter": "python",
   "pygments_lexer": "ipython3",
   "version": "3.10.9"
  },
  "orig_nbformat": 4
 },
 "nbformat": 4,
 "nbformat_minor": 2
}

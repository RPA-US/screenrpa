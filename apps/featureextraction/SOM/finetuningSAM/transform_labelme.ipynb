{
 "cells": [
  {
   "cell_type": "code",
   "execution_count": 1,
   "metadata": {},
   "outputs": [],
   "source": [
    "import json\n",
    "import os"
   ]
  },
  {
   "cell_type": "code",
   "execution_count": 5,
   "metadata": {},
   "outputs": [],
   "source": [
    "RELATIVE_PATH = '../../../../resources/data_v2/'"
   ]
  },
  {
   "cell_type": "code",
   "execution_count": 6,
   "metadata": {},
   "outputs": [],
   "source": [
    "images_rute = RELATIVE_PATH\n",
    "labelme_rute = RELATIVE_PATH+'labelme/'\n",
    "save_rute = RELATIVE_PATH+'annotated/'"
   ]
  },
  {
   "cell_type": "code",
   "execution_count": 7,
   "metadata": {},
   "outputs": [],
   "source": [
    "images_list = list(filter(lambda x:x.split('.')[-1]=='JPEG', os.listdir(images_rute)))"
   ]
  },
  {
   "cell_type": "markdown",
   "metadata": {},
   "source": [
    "Pasar de formato 'rectangle' a formato 'polygon' para aplicar labelme2coco."
   ]
  },
  {
   "cell_type": "code",
   "execution_count": 10,
   "metadata": {},
   "outputs": [
    {
     "ename": "TypeError",
     "evalue": "a bytes-like object is required, not 'str'",
     "output_type": "error",
     "traceback": [
      "\u001b[1;31m---------------------------------------------------------------------------\u001b[0m",
      "\u001b[1;31mTypeError\u001b[0m                                 Traceback (most recent call last)",
      "Cell \u001b[1;32mIn[10], line 25\u001b[0m\n\u001b[0;32m     23\u001b[0m file_path \u001b[39m=\u001b[39m save_rute\u001b[39m+\u001b[39mjson_name\n\u001b[0;32m     24\u001b[0m \u001b[39mwith\u001b[39;00m \u001b[39mopen\u001b[39m(file_path, \u001b[39m'\u001b[39m\u001b[39mwb\u001b[39m\u001b[39m'\u001b[39m) \u001b[39mas\u001b[39;00m file:\n\u001b[1;32m---> 25\u001b[0m     json\u001b[39m.\u001b[39;49mdump(json_labelme, file, indent\u001b[39m=\u001b[39;49m\u001b[39m2\u001b[39;49m)\n\u001b[0;32m     27\u001b[0m original_image_path \u001b[39m=\u001b[39m \u001b[39mf\u001b[39m\u001b[39m'\u001b[39m\u001b[39m{\u001b[39;00mimages_rute\u001b[39m}\u001b[39;00m\u001b[39m{\u001b[39;00mimage_name\u001b[39m}\u001b[39;00m\u001b[39m'\u001b[39m\n\u001b[0;32m     28\u001b[0m dest_image_path \u001b[39m=\u001b[39m \u001b[39mf\u001b[39m\u001b[39m'\u001b[39m\u001b[39m{\u001b[39;00msave_rute\u001b[39m}\u001b[39;00m\u001b[39m{\u001b[39;00mimage_name\u001b[39m}\u001b[39;00m\u001b[39m'\u001b[39m\n",
      "File \u001b[1;32m~\\AppData\\Local\\Programs\\Python\\Python310\\lib\\json\\__init__.py:180\u001b[0m, in \u001b[0;36mdump\u001b[1;34m(obj, fp, skipkeys, ensure_ascii, check_circular, allow_nan, cls, indent, separators, default, sort_keys, **kw)\u001b[0m\n\u001b[0;32m    177\u001b[0m \u001b[39m# could accelerate with writelines in some versions of Python, at\u001b[39;00m\n\u001b[0;32m    178\u001b[0m \u001b[39m# a debuggability cost\u001b[39;00m\n\u001b[0;32m    179\u001b[0m \u001b[39mfor\u001b[39;00m chunk \u001b[39min\u001b[39;00m iterable:\n\u001b[1;32m--> 180\u001b[0m     fp\u001b[39m.\u001b[39;49mwrite(chunk)\n",
      "\u001b[1;31mTypeError\u001b[0m: a bytes-like object is required, not 'str'"
     ]
    }
   ],
   "source": [
    "import shutil\n",
    "\n",
    "for image_name in images_list:\n",
    "    json_name = image_name.split('.')[0]+'.json'\n",
    "    image_rute = labelme_rute+json_name\n",
    "    with open(image_rute, 'r') as file:\n",
    "        json_labelme = json.load(file)\n",
    "    for shape in json_labelme['shapes']:\n",
    "        points = shape['points']\n",
    "        x0,y0 = points[0]\n",
    "        x2,y2 = points[1]\n",
    "        x1,y1 = [x2,y0]\n",
    "        x3,y3 = [x0,y2]\n",
    "        points = [\n",
    "                    [x0,y0],\n",
    "                    [x1,y1],\n",
    "                    [x2,y2],\n",
    "                    [x3,y3]\n",
    "                ]\n",
    "        shape['points'] = points\n",
    "        shape['shape_type'] = 'polygon'\n",
    "    \n",
    "    file_path = save_rute+json_name\n",
    "    with open(file_path, 'w') as file:\n",
    "        json.dump(json_labelme, file, indent=2)\n",
    "    \n",
    "    original_image_path = f'{images_rute}{image_name}'\n",
    "    dest_image_path = f'{save_rute}{image_name}'\n",
    "    shutil.copyfile(original_image_path, dest_image_path)\n",
    "\n"
   ]
  },
  {
   "cell_type": "markdown",
   "metadata": {},
   "source": [
    "Aplicar Labelme2coco"
   ]
  },
  {
   "cell_type": "code",
   "execution_count": null,
   "metadata": {},
   "outputs": [],
   "source": [
    "!pip install -U labelme\n",
    "!pip install -U labelme2coco"
   ]
  },
  {
   "cell_type": "code",
   "execution_count": 28,
   "metadata": {},
   "outputs": [
    {
     "name": "stdout",
     "output_type": "stream",
     "text": [
      "There are 75 listed files in folder data_v2/annotated/.\n"
     ]
    },
    {
     "name": "stderr",
     "output_type": "stream",
     "text": [
      "Converting labelme annotations to COCO format:   0%|          | 0/75 [00:00<?, ?it/s]"
     ]
    },
    {
     "name": "stderr",
     "output_type": "stream",
     "text": [
      "Converting labelme annotations to COCO format: 100%|██████████| 75/75 [00:01<00:00, 38.50it/s] \n",
      "07/19/2023 10:53:06 - INFO - labelme2coco -   Training split in COCO format is exported to ..\\coco_datasets\\data_v2\\train.json\n",
      "07/19/2023 10:53:07 - INFO - labelme2coco -   Validation split in COCO format is exported to ..\\coco_datasets\\data_v2\\val.json\n"
     ]
    }
   ],
   "source": [
    "import labelme2coco\n",
    "\n",
    "labelme_folder = 'data_v2/annotated/'\n",
    "\n",
    "export_dir = \"../coco_datasets/data_v2/\"\n",
    "\n",
    "train_split_rate = 0.85\n",
    "\n",
    "labelme2coco.convert(labelme_folder, export_dir, train_split_rate)"
   ]
  }
 ],
 "metadata": {
  "kernelspec": {
   "display_name": "venv",
   "language": "python",
   "name": "python3"
  },
  "language_info": {
   "codemirror_mode": {
    "name": "ipython",
    "version": 3
   },
   "file_extension": ".py",
   "mimetype": "text/x-python",
   "name": "python",
   "nbconvert_exporter": "python",
   "pygments_lexer": "ipython3",
   "version": "3.10.9"
  },
  "orig_nbformat": 4
 },
 "nbformat": 4,
 "nbformat_minor": 2
}
